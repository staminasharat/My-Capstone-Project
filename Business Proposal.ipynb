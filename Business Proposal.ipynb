{
 "cells": [
  {
   "cell_type": "markdown",
   "id": "f0b1c2df-ad57-4161-9bfc-a7b6f24f5fb3",
   "metadata": {},
   "source": [
    "## Business Proposal"
   ]
  },
  {
   "cell_type": "markdown",
   "id": "5d7857b5-d29f-4bf9-8e35-80579a809a49",
   "metadata": {},
   "source": [
    "#### Jewel Of The South"
   ]
  },
  {
   "cell_type": "markdown",
   "id": "8424d357-d55f-4c9c-a8b6-b33aeb7dddb1",
   "metadata": {},
   "source": [
    "Banglore is the capital and the largest city of the Indian state of Karnataka. It has a population of more than 8 million and a metropolitan population of around 11 million, making it the third most populous city and fifth most populous urban agglomeration in India.Located in southern India on the Deccan Plateau, at a height of over 900 m (3,000 ft) above sea level, Bangalore is known for its pleasant climate throughout the year. Its elevation is the highest among the major cities of India.\n",
    "The center of India's high-tech industry, the city is also known for its parks and nightlife. By Cubbon Park, Vidhana Soudha is a Neo-Dravidian legislative building. Former royal residences include 19th-century Bangalore Palace, modeled after England’s Windsor Castle, and Tipu Sultan’s Summer Palace, an 18th-century teak structure."
   ]
  },
  {
   "cell_type": "markdown",
   "id": "6ca30bc4-492b-4142-b69b-64577a7f31d1",
   "metadata": {},
   "source": [
    "Bangalore is widely regarded as the \"Silicon Valley of India\" (or \"IT capital of India\") because of its role as the nation's leading information technology (IT) exporter. Indian technological organisations are headquartered in the city. A demographically diverse city, Bangalore is the second fastest-growing major metropolis in India. Recent estimates of the metro economy of its urban area have ranked Bangalore either the fourth- or fifth-most productive metro area of India. Bangalore is home to 7,700 millionaires and 8 billionaires with a total wealth of $320 billion. It is home to many educational and research institutions. Numerous state-owned aerospace and defence organisations, are located in the city. The city also houses the Kannada film industry. It was ranked the most liveable Indian city with a population of over a million under the Ease of Living Index 2020."
   ]
  },
  {
   "cell_type": "markdown",
   "id": "55b72af4-728c-4615-9e13-0864b8a36b21",
   "metadata": {},
   "source": [
    "Understanding the different parts of the city in a scientific way, with a data driven way will fetch better insights about the city, paving ways for improvements and in turn contribute to the country's growth"
   ]
  },
  {
   "cell_type": "markdown",
   "id": "44a16b3d-ac30-4ef0-a020-6391b6dc4748",
   "metadata": {},
   "source": [
    "#### Our Aim"
   ]
  },
  {
   "cell_type": "markdown",
   "id": "25900c90-7666-411f-9968-74a9f9838794",
   "metadata": {},
   "source": [
    "The major purpose of this project, is to understand the features different neighborhoods of the city, for a better understanding in terms of culture, business and commerce. We will segement and cluster the neighborhoods of the city of banglore"
   ]
  },
  {
   "cell_type": "markdown",
   "id": "ac3c7ed9-3a8e-4ec1-a776-7a2592b2636f",
   "metadata": {},
   "source": [
    "#### About Four Square API"
   ]
  },
  {
   "cell_type": "markdown",
   "id": "4b9852c4-77c2-448c-99b5-b04a5a4cf983",
   "metadata": {},
   "source": [
    "This project would use Four-square API as its prime data gathering source as it has a database of millions of places, especially their places API which provides the ability to perform location search, location sharing and details about a business."
   ]
  },
  {
   "cell_type": "markdown",
   "id": "8b2034a6-c372-4062-a898-ca146a86421e",
   "metadata": {},
   "source": [
    "### Libraries Which are Used to Develope the Project:"
   ]
  },
  {
   "cell_type": "markdown",
   "id": "fcdc546e-e925-4393-8208-5889b3a66b5f",
   "metadata": {},
   "source": [
    "Pandas: For creating and manipulating dataframes.\n",
    "\n",
    "Folium: Python visualization library would be used to visualize the neighborhoods cluster distribution of using interactive leaflet map.\n",
    "\n",
    "Scikit Learn: For importing k-means clustering.\n",
    "\n",
    "JSON: Library to handle JSON files.\n",
    "\n",
    "XML: To separate data from presentation and XML stores data in plain text format.\n",
    "\n",
    "Geocoder: To retrieve Location Data.\n",
    "\n",
    "Beautiful Soup and Requests: To scrap and library to handle http requests.\n",
    "\n",
    "Matplotlib: Python Plotting Module."
   ]
  },
  {
   "cell_type": "code",
   "execution_count": null,
   "id": "f14983eb-cb1b-4380-b614-617018b2d5ba",
   "metadata": {},
   "outputs": [],
   "source": []
  }
 ],
 "metadata": {
  "kernelspec": {
   "display_name": "Python 3",
   "language": "python",
   "name": "python3"
  },
  "language_info": {
   "codemirror_mode": {
    "name": "ipython",
    "version": 3
   },
   "file_extension": ".py",
   "mimetype": "text/x-python",
   "name": "python",
   "nbconvert_exporter": "python",
   "pygments_lexer": "ipython3",
   "version": "3.8.10"
  }
 },
 "nbformat": 4,
 "nbformat_minor": 5
}
