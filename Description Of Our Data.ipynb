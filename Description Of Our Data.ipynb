{
 "cells": [
  {
   "cell_type": "markdown",
   "id": "f85ce60c-239e-4867-8d6b-d23c8e649b65",
   "metadata": {},
   "source": [
    "## Data Description"
   ]
  },
  {
   "cell_type": "markdown",
   "id": "e0dda430-b1fb-4308-b504-c5222127d4a6",
   "metadata": {},
   "source": [
    "You will find the project data here - __[link](http//projects.datameet.org/Municipal_Spatial_Data/bangalore/#supporting-documents)__"
   ]
  },
  {
   "cell_type": "markdown",
   "id": "25a6eef6-a00d-4828-aa76-389db34a99d3",
   "metadata": {},
   "source": [
    "### Spatial Data of Muncipalities "
   ]
  },
  {
   "cell_type": "markdown",
   "id": "37a9ade0-4766-47f5-9fbf-fbf75aa15443",
   "metadata": {},
   "source": [
    "About the Data"
   ]
  },
  {
   "cell_type": "markdown",
   "id": "448b0315-075e-4961-9fb1-b82e519878d3",
   "metadata": {},
   "source": [
    "We will be using the banglore muncipalities data to explore the city of banglore\n",
    "\n",
    "Spatial Data of Municipalities (Maps) sourced from different government websites which are freely available to all the Indians. Here we have digitized them, cleaned them, added appropriate attributes so it can be used by all the researchers, students etcAll the municipality boundaries are available in geojson (WGS84, EPSG4326) format. The below table gives you the city of the data as we clean and upload. Data is not perfect there as many errors both in data and boundaries. You can contribute by sending the pull requests. Refer CONTRIBUTING for ways to contribute."
   ]
  },
  {
   "cell_type": "markdown",
   "id": "e49ff8a6-0c82-4afa-9fb1-ddcb250c55bc",
   "metadata": {},
   "source": [
    " - A geojson file BBMP.GeoJSON is our map file\n",
    " - GeoJson Attributes\n",
    "Each boundary will have the attributes as per avilability."
   ]
  },
  {
   "cell_type": "markdown",
   "id": "451754b5-c3bb-445a-92f8-ef852e27a09a",
   "metadata": {},
   "source": [
    "#### License"
   ]
  },
  {
   "cell_type": "markdown",
   "id": "08d56fd0-c00d-4caf-8d03-02bb1ae90d0e",
   "metadata": {},
   "source": [
    "All our work will be under Creative Commons Attribution-ShareAlike 2.5 India. This data is distributed in the hope that it will be useful, but WITHOUT ANY WARRANTY; without even the implied warranty of MERCHANTABILITY or FITNESS FOR A PARTICULAR PURPOSE. If you find issues we are more than happy to accept corrections but please source them to an official source. Refer CONTRIBUTING.md for ways to contribute."
   ]
  },
  {
   "cell_type": "markdown",
   "id": "c61eb608-2277-4452-b129-06adb59e42d0",
   "metadata": {},
   "source": [
    "#### About Foursquare API"
   ]
  },
  {
   "cell_type": "markdown",
   "id": "e85eb922-6d86-4567-84d0-24c7b502ada9",
   "metadata": {},
   "source": [
    "We will need data about different venues in different neighborhoods of that specific borough. In order to gain that information we will use \"Foursquare\" locational information. Foursquare is a location data provider with information about all manner of venues and events within an area of interest. Such information includes venue names, locations, menus and even photos. As such, the foursquare location platform will be used as the sole data source since all the stated required information can be obtained through the API.\n",
    "\n",
    "After finding the list of neighborhoods, we then connect to the Foursquare API to gather information about venues inside each and every neighborhood. For each neighborhood, we have chosen the radius to be 100 meter.\n",
    "\n",
    "The data retrieved from Foursquare contained information of venues within a specified distance of the longitude and latitude of the postcodes. The information obtained per venue as follows:\n",
    "\n",
    " -  Neighborhood\n",
    " - Neighborhood Latitude\n",
    " -  Neighborhood Longitude\n",
    " - Venue\n",
    " - Name of the venue e.g. the name of a store or restaurant\n",
    " - Venue Latitude\n",
    " - Venue Longitude\n",
    " - Venue Category"
   ]
  },
  {
   "cell_type": "code",
   "execution_count": null,
   "id": "a53c2746-99f7-4a6a-a5b9-716fb6755017",
   "metadata": {},
   "outputs": [],
   "source": []
  }
 ],
 "metadata": {
  "kernelspec": {
   "display_name": "Python 3",
   "language": "python",
   "name": "python3"
  },
  "language_info": {
   "codemirror_mode": {
    "name": "ipython",
    "version": 3
   },
   "file_extension": ".py",
   "mimetype": "text/x-python",
   "name": "python",
   "nbconvert_exporter": "python",
   "pygments_lexer": "ipython3",
   "version": "3.8.10"
  }
 },
 "nbformat": 4,
 "nbformat_minor": 5
}
